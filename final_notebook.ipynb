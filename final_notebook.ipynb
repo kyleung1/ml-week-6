{
 "cells": [
  {
   "cell_type": "markdown",
   "id": "ffc58a41-59fe-430b-8217-13c7b353d76f",
   "metadata": {},
   "source": [
    "# NLP to Distinguish Fake Phishing and Spam Job Emails\n",
    "\n",
    "Problem: The problem that will be tackled in this project is identifying fake or real job opportunity emails. There are many spam emails or phishing emails targetting job seekers and it would be beneficial to distinguish between real or fake job opportunities in emails. This task will be done using natural language processing models such as GRU (gated recurrent unit) for its sequential data processing capabilities and conv1d (1D Convolutional Neural Network) for its short term pattern recognition abilities. \n",
    "\n",
    "Data: The dataset consists of approximately 1,000 labeled emails, each marked as either \"real\" or \"fake\". It has a raw column, text, and label columns. The raw column is how the data is unorganized, the text contains the body of the email, and the label shows 0 as a real job email and 1 as a fake job email. The data is in a tabular format and was generated through self-prompting using ChatGPT to simulate realistic examples of both legitimate and fraudulent job emails."
   ]
  },
  {
   "cell_type": "code",
   "execution_count": 1,
   "id": "d7dbd212-bd04-4de6-b957-a9bcc6e596d7",
   "metadata": {},
   "outputs": [],
   "source": [
    "import pandas as pd\n",
    "import numpy as np\n",
    "import matplotlib.pyplot as plt\n",
    "import tensorflow as tf\n",
    "import seaborn as sns\n",
    "import re\n",
    "import keras_tuner as kt\n",
    "from sklearn.metrics import confusion_matrix, roc_curve, roc_auc_score, precision_score, recall_score, f1_score\n",
    "from sklearn.model_selection import train_test_split\n",
    "from sklearn.feature_extraction.text import CountVectorizer\n",
    "import tensorflow.keras.backend as K\n",
    "from tensorflow.keras.models import Sequential\n",
    "from tensorflow.keras.layers import Embedding, GRU, Dense, Dropout, Conv1D, GlobalMaxPooling1D, BatchNormalization\n",
    "from tensorflow.keras.preprocessing.text import Tokenizer\n",
    "from tensorflow.keras.preprocessing.sequence import pad_sequences\n",
    "from tensorflow.keras.callbacks import EarlyStopping\n",
    "from keras.saving import register_keras_serializable"
   ]
  },
  {
   "cell_type": "markdown",
   "id": "640bbd45-67fa-4f62-a119-7e963cd0a668",
   "metadata": {},
   "source": [
    "## EDA\n",
    "\n",
    "EDA procedure:\n",
    "- Import data and look at dimension and structure\n",
    "- Bar chart to see distribution of labels (0 real or 1 fake). This is to see if the data is skewed or biased toward being real or fake.\n",
    "- Histogram to see distribution of email lengths. This is also to see if the data is skewed or baised toward being shorter or longer.\n",
    "- Boxplot to see length of emails with respect to labels. This is to see if the data is biased towards being shorter or longer for real or fake emails.\n",
    "- Bar chart to see the top 20 most common words in fake emails. Just a visualization to see if there are any patterns in language or words used in fake emails.\n",
    "- Outliers will be left in as email length can vary in real job opportunity emails as well as fake job emails.\n",
    "- Before analysis a specific factor I think will be important are length of emails. I am worried that it might impact how well the model is trained."
   ]
  },
  {
   "cell_type": "code",
   "execution_count": 2,
   "id": "4959b6ac-2bc2-4f12-8c1c-41287e9a32de",
   "metadata": {},
   "outputs": [
    {
     "name": "stdout",
     "output_type": "stream",
     "text": [
      "<bound method NDFrame.head of                                                    raw  \\\n",
      "0    Subject: Job Offer for Marketing Manager Posit...   \n",
      "1    Subject: Congratulations! You've Been Selected...   \n",
      "2    Subject: Immediate Hiring Opportunity! (No Exp...   \n",
      "3    Subject: Software Developer Position at Innova...   \n",
      "4    Subject: Urgent Work-From-Home Opportunity! De...   \n",
      "..                                                 ...   \n",
      "983  Subject: Interview Invitation - Data Entry Cle...   \n",
      "984  Subject: Work Online - Start Immediately Dear ...   \n",
      "985  Subject: Interview Scheduling - Quality Assura...   \n",
      "986  Subject: Flexible Remote Work Available Dear J...   \n",
      "987  Subject: Interview Invitation - Technical Supp...   \n",
      "\n",
      "                                                  text  label  \n",
      "0    Subject: Job Offer for Marketing Manager Posit...      0  \n",
      "1    Subject: Congratulations! You've Been Selected...      0  \n",
      "2    Subject: Immediate Hiring Opportunity! (No Exp...      1  \n",
      "3    Subject: Software Developer Position at Innova...      0  \n",
      "4    Subject: Urgent Work-From-Home Opportunity! De...      1  \n",
      "..                                                 ...    ...  \n",
      "983  Subject: Interview Invitation - Data Entry Cle...      0  \n",
      "984  Subject: Work Online - Start Immediately Dear ...      1  \n",
      "985  Subject: Interview Scheduling - Quality Assura...      0  \n",
      "986  Subject: Flexible Remote Work Available Dear J...      1  \n",
      "987  Subject: Interview Invitation - Technical Supp...      0  \n",
      "\n",
      "[988 rows x 3 columns]>\n"
     ]
    }
   ],
   "source": [
    "# import data\n",
    "\n",
    "data = pd.read_csv('data/email_data.csv')\n",
    "print(data.head)"
   ]
  },
  {
   "cell_type": "markdown",
   "id": "892a264a-4278-4817-be3f-8c1bff0c6d70",
   "metadata": {},
   "source": [
    "The data has 988 rows and 3 columns each: raw (raw text), text (email body), and label."
   ]
  },
  {
   "cell_type": "code",
   "execution_count": 3,
   "id": "158cc947-f157-4688-9bd1-6aeb2227e098",
   "metadata": {},
   "outputs": [
    {
     "data": {
      "image/png": "[encoded data removed]",
      "text/plain": [
       "<Figure size 600x400 with 1 Axes>"
      ]
     },
     "metadata": {},
     "output_type": "display_data"
    }
   ],
   "source": [
    "# histogram to see distribution of labels\n",
    "plt.figure(figsize=(6,4))\n",
    "label_count = data['label'].value_counts().plot(kind='bar')\n",
    "plt.title('Distribution of Real (0) and Fake (1) Job Related Emails')\n",
    "plt.xlabel('Label')\n",
    "plt.ylabel('Count')\n",
    "plt.xticks([0,1], ['Real Job Email (0)', 'Fake Job Email(1)'], rotation=0)\n",
    "plt.grid(axis='y')\n",
    "\n",
    "# add values on top\n",
    "for p in label_count.patches:\n",
    "    label_count.annotate(str(p.get_height()), (p.get_x() + p.get_width() / 2., p.get_height()), \n",
    "                ha='center', va='bottom')\n",
    "\n",
    "plt.show()    "
   ]
  },
  {
   "cell_type": "markdown",
   "id": "9b932a1f-e5c9-4ec7-ada8-1e1930952cfb",
   "metadata": {},
   "source": [
    "The amount of real vs fake job emails are about even so there should not be a lot of bias in the data."
   ]
  },
  {
   "cell_type": "code",
   "execution_count": 4,
   "id": "c45f7c33-2893-45b3-9a3d-4d0eb8670d91",
   "metadata": {},
   "outputs": [
    {
     "data": {
      "image/png": "[encoded data removed]",
      "text/plain": [
       "<Figure size 800x500 with 1 Axes>"
      ]
     },
     "metadata": {},
     "output_type": "display_data"
    }
   ],
   "source": [
    "# histogram of email lengths\n",
    "\n",
    "word_count_list = []\n",
    "for email in data['text']:\n",
    "    word_count = email.split() # splits email into list of words\n",
    "    word_count_list.append(len(word_count))\n",
    "    \n",
    "plt.figure(figsize=(8,5))\n",
    "plt.hist(word_count_list, bins=30, edgecolor='black')\n",
    "plt.title('Distribution of Email Lengths')\n",
    "plt.xlabel('Email Length (number of words)')\n",
    "plt.ylabel('Number of Emails')\n",
    "plt.grid(axis='y')\n",
    "plt.show()"
   ]
  },
  {
   "cell_type": "markdown",
   "id": "c4512704-1758-4936-90da-f01c3306fe86",
   "metadata": {},
   "source": [
    "Most emails tend to be between the 20 to 40 word range. There are some outliers that are longer, some around 60, some around 100, the highest outlier being almost 120 words long. Since the range seems skewed between the 20-40 range, some normalization methods might need to be employed so that the length does not influence the decision of the GRU model."
   ]
  },
  {
   "cell_type": "code",
   "execution_count": 5,
   "id": "b819dc20-49fb-40ba-89f9-0003b86a5b82",
   "metadata": {},
   "outputs": [
    {
     "data": {
      "image/png": "[encoded data removed]",
      "text/plain": [
       "<Figure size 640x480 with 1 Axes>"
      ]
     },
     "metadata": {},
     "output_type": "display_data"
    }
   ],
   "source": [
    "# boxplot to see length distribution by label\n",
    "sns.boxplot(x=data['label'], y=data['text'].apply(lambda x: len(x.split())))\n",
    "plt.title(\"Email Word Count Distribution by Label\")\n",
    "plt.xlabel(\"Label (0 = Real, 1 = Fake)\")\n",
    "plt.ylabel(\"Number of Words\")\n",
    "\n",
    "plt.show()"
   ]
  },
  {
   "cell_type": "markdown",
   "id": "7b125d81-bd5c-4c24-ac6b-60d47fcc0040",
   "metadata": {},
   "source": [
    "There are a lot of outliers for both real and fake emails. The first and third quartile gap (edge of blue box) for word length is larger for fake emails than real emails. This gap or spread represents where 50% of the data is ranging in terms of word length. The median line is within the quartile gap is about the same word length for both real and fake emails. The gap for the whiskers representing 1.5 times the iqr of the quartile lines (edge of blue boxes * 1.5). This gap is about even for real emails and has a bigger upper whisker than lower for fake emails. Takeaways are fake emails are not as consistent, some are short and some are long. Real emails are more professional and hover around a certain range more frequently. Since word length median seems to be about the same for real and fake, it might be hard to distinguish solely off word length. Personally, I am thinking of keeping the outliers in the data because in the real world emails tend to range in length and I keeping it in would make it more realistic."
   ]
  },
  {
   "cell_type": "code",
   "execution_count": 6,
   "id": "655e986f-52cd-4fdd-94ad-43da7c948289",
   "metadata": {},
   "outputs": [
    {
     "data": {
      "image/png": "[encoded data removed]",
      "text/plain": [
       "<Figure size 640x480 with 1 Axes>"
      ]
     },
     "metadata": {},
     "output_type": "display_data"
    }
   ],
   "source": [
    "# most common words\n",
    "vectorizer = CountVectorizer(stop_words='english', max_features=1000)\n",
    "X = vectorizer.fit_transform(data[data['label'] == 1]['text'])  # Only fake for example\n",
    "word_counts = np.asarray(X.sum(axis=0)).flatten()\n",
    "words = vectorizer.get_feature_names_out()\n",
    "\n",
    "# Plot top 20\n",
    "top_idx = word_counts.argsort()[-20:][::-1]\n",
    "plt.barh([words[i] for i in top_idx], [word_counts[i] for i in top_idx])\n",
    "plt.title(\"Top Words in Fake Emails\")\n",
    "plt.xlabel(\"Frequency\")\n",
    "plt.gca().invert_yaxis()\n",
    "plt.show()"
   ]
  },
  {
   "cell_type": "markdown",
   "id": "c00a139d-8468-4f51-a1e3-56b8115c0431",
   "metadata": {},
   "source": [
    "Subject appears the most but this is due to how the data formatted the subject header, might need to remove that during data cleaning. The words most commonly used seem normal to real job opportunity emails so training using the entire context rather than just individual words might be the best course of action for this classification task."
   ]
  },
  {
   "cell_type": "markdown",
   "id": "80d0d137-0614-4c0a-94d9-c9b16266a2f9",
   "metadata": {},
   "source": [
    "## Cleaning Data\n",
    "\n",
    "- Check if all emails have a label\n",
    "- Check for duplicate text\n",
    "- Lowercase all text to prevent repeat words while training\n",
    "- Remove unwanted words\n",
    "- Remove special characters but leave @ and $ as they are relevant in some job emails\n",
    "- Remove all white spaces in text"
   ]
  },
  {
   "cell_type": "code",
   "execution_count": 7,
   "id": "5ccd52c1-13ac-4af6-9e1e-393d0a76576c",
   "metadata": {},
   "outputs": [
    {
     "name": "stdout",
     "output_type": "stream",
     "text": [
      "Number of missing labels: 0\n",
      "Number of duplicate emails: 0\n"
     ]
    }
   ],
   "source": [
    "# check if all emails have a label\n",
    "missing_labels = data['label'].isnull().sum()\n",
    "print(f\"Number of missing labels: {missing_labels}\")\n",
    "\n",
    "# check for duplicate text\n",
    "duplicate_texts = data['text'].duplicated().sum()\n",
    "print(f\"Number of duplicate emails: {duplicate_texts}\")"
   ]
  },
  {
   "cell_type": "code",
   "execution_count": 8,
   "id": "7523c483-a3b6-4317-b7bb-2a22bf55616d",
   "metadata": {},
   "outputs": [],
   "source": [
    "# lowercase all text\n",
    "data['text'] = data['text'].str.lower()"
   ]
  },
  {
   "cell_type": "code",
   "execution_count": 9,
   "id": "33bbf623-b264-4eb8-80a4-4ef5d1485008",
   "metadata": {},
   "outputs": [
    {
     "data": {
      "text/plain": [
       "<bound method NDFrame.head of 0      subject job offer for marketing manager positi...\n",
       "1      subject congratulations youve been selected fo...\n",
       "2      subject immediate hiring opportunity no experi...\n",
       "3      subject software developer position at innovat...\n",
       "4      subject urgent workfromhome opportunity dear a...\n",
       "                             ...                        \n",
       "983    subject interview invitation data entry clerk ...\n",
       "984    subject work online start immediately dear ale...\n",
       "985    subject interview scheduling quality assurance...\n",
       "986    subject flexible remote work available dear ju...\n",
       "987    subject interview invitation technical support...\n",
       "Name: text, Length: 988, dtype: object>"
      ]
     },
     "execution_count": 9,
     "metadata": {},
     "output_type": "execute_result"
    }
   ],
   "source": [
    "# remove unwanted words\n",
    "data['text'] = data['text'].str.replace(r'\\bSubject:\\b', '', case=False, regex=True)\n",
    "\n",
    "# remove special characters, only keeping @ and $. These characters are relevant in some job emails so might be worth keeping.\n",
    "data['text'] = data['text'].str.replace(r'[^\\w\\s@$]', '', regex=True)\n",
    "\n",
    "# remove all white space\n",
    "data['text'] = data['text'].str.replace(r'\\s+', ' ', regex=True).str.strip()\n",
    "\n",
    "data.text.head"
   ]
  },
  {
   "cell_type": "code",
   "execution_count": 10,
   "id": "6ff41b73-d7c1-451c-93fc-c33de9d518df",
   "metadata": {},
   "outputs": [
    {
     "name": "stdout",
     "output_type": "stream",
     "text": [
      "training shape:  (632, 3)\n",
      "validation shape:  (158, 3)\n",
      "testing shape:  (198, 3)\n"
     ]
    }
   ],
   "source": [
    "# split data into training, validation, and test\n",
    "train_and_val, test = train_test_split(data, test_size=0.2, random_state=42) # training + validation = 80% and testing = 20%\n",
    "train, val = train_test_split(train_and_val, test_size=0.2, random_state=42) # training = 80% and validation = 20%\n",
    "print('training shape: ', train.shape)\n",
    "print('validation shape: ', val.shape)\n",
    "print('testing shape: ', test.shape)"
   ]
  },
  {
   "cell_type": "code",
   "execution_count": 11,
   "id": "29c27043-ca5c-4457-9fb0-17ccc7907784",
   "metadata": {},
   "outputs": [
    {
     "name": "stdout",
     "output_type": "stream",
     "text": [
      "[[  3  12   5 ...   0   0   0]\n",
      " [  3  52   4 ...   0   0   0]\n",
      " [  3 155  16 ...   0   0   0]\n",
      " ...\n",
      " [  3  47 234 ...   0   0   0]\n",
      " [  3  12 149 ...   0   0   0]\n",
      " [  3  48 125 ...   0   0   0]]\n"
     ]
    }
   ],
   "source": [
    "# tokenize the text \n",
    "vocab_size = 10000 # max number of words, limits vocabulary size in tokenization\n",
    "max_length = 60 # max email length in tokens, pads sequences to ensure same length during training\n",
    "tokenizer = Tokenizer(num_words=vocab_size, oov_token='<OOV>') # replaces unknown words with special '<OOV>' placeholder\n",
    "tokenizer.fit_on_texts(train['text'])\n",
    "\n",
    "# pad training text\n",
    "train_seq = tokenizer.texts_to_sequences(train['text'])\n",
    "train_seq_pad = pad_sequences(train_seq, maxlen=max_length, padding='post')\n",
    "\n",
    "# pad validation text\n",
    "val_seq = tokenizer.texts_to_sequences(val['text'])\n",
    "val_seq_pad = pad_sequences(val_seq, maxlen=max_length, padding='post')\n",
    "\n",
    "# pad test text for later\n",
    "test_seq = tokenizer.texts_to_sequences(test['text'])\n",
    "test_seq_pad = pad_sequences(test_seq, maxlen=max_length, padding='post')\n",
    "\n",
    "print(train_seq_pad)"
   ]
  },
  {
   "cell_type": "markdown",
   "id": "191630ad-c549-4308-b918-bb039ee09c84",
   "metadata": {},
   "source": [
    "Need to tokenize the text so each word is represented by a unique integer that the model can process during its training. Padding is necessary to ensure all input text has the same length, this is required for batching and feeding data into the model."
   ]
  },
  {
   "cell_type": "markdown",
   "id": "86cf5a65-ba87-4629-9acc-e36f7ffbc139",
   "metadata": {},
   "source": [
    "## Analysis\n",
    "\n",
    "My plan of analysis is to use a GRU (gated recurrent unit) model for binary classification of my email data. Classifying whether or not the email contains real job related opportunities or is a scam or fake. This model is good for sequential data which is fitting for identifying fake job emails because many words are generally used in these types of emails as can be seen on the top 20 most common words bar chart above, the context of the entire email will be required to make a decision rather than individual words. Following that I plan on creating a conv1 model for comparison. Conv1 models are also somewhat relevant for this task because it is good at identifying short patterns across phrases and word combinations. Since the batch of email data I currently collected are rather on the shorter side, 50% being between 20 to 40 words in length. Finally, I will utilize the keras tuner library to do hyperparameter tuning for both models.\n",
    "\n",
    "Model Architecture: Layers in the GRU model include: embedding, GRU, dropout, and dense. The embedding layer is meant for representing text as word vectors for training. The GRU layer contains hidden layers that will do computation and learning for our task, maintaining context. The batch normalization layer is meant as an additional safeguard against overfitting. The dropout layer is used to prevent overfitting. The dense layer is the output layer, which outputs a value between 0 and 1.\n",
    "\n",
    "Layers in the Conv1d model include embedding, conv1d, GlobalMaxPooling1D, droput, and dense. The conv1d layer does the computation and learning and the globalmaxpooling1d layer maintains previous short patterns through pooling techniques."
   ]
  },
  {
   "cell_type": "code",
   "execution_count": 12,
   "id": "c1b0c842-9c49-4174-a4a6-1bef97744ba2",
   "metadata": {},
   "outputs": [
    {
     "name": "stdout",
     "output_type": "stream",
     "text": [
      "Epoch 1/10\n"
     ]
    },
    {
     "name": "stderr",
     "output_type": "stream",
     "text": [
      "C:\\Users\\Kyle\\Desktop\\ml week 6\\venv\\Lib\\site-packages\\keras\\src\\layers\\core\\embedding.py:90: UserWarning: Argument `input_length` is deprecated. Just remove it.\n",
      "  warnings.warn(\n"
     ]
    },
    {
     "name": "stdout",
     "output_type": "stream",
     "text": [
      "\u001b[1m20/20\u001b[0m \u001b[32m━━━━━━━━━━━━━━━━━━━━\u001b[0m\u001b[37m\u001b[0m \u001b[1m1s\u001b[0m 17ms/step - accuracy: 0.5260 - loss: 0.6871 - val_accuracy: 0.5253 - val_loss: 0.6929\n",
      "Epoch 2/10\n",
      "\u001b[1m20/20\u001b[0m \u001b[32m━━━━━━━━━━━━━━━━━━━━\u001b[0m\u001b[37m\u001b[0m \u001b[1m0s\u001b[0m 10ms/step - accuracy: 0.4714 - loss: 0.6902 - val_accuracy: 0.4873 - val_loss: 0.6936\n",
      "Epoch 3/10\n",
      "\u001b[1m20/20\u001b[0m \u001b[32m━━━━━━━━━━━━━━━━━━━━\u001b[0m\u001b[37m\u001b[0m \u001b[1m0s\u001b[0m 10ms/step - accuracy: 0.5152 - loss: 0.6849 - val_accuracy: 0.4873 - val_loss: 0.6937\n",
      "Epoch 4/10\n",
      "\u001b[1m20/20\u001b[0m \u001b[32m━━━━━━━━━━━━━━━━━━━━\u001b[0m\u001b[37m\u001b[0m \u001b[1m0s\u001b[0m 10ms/step - accuracy: 0.5174 - loss: 0.6676 - val_accuracy: 0.4873 - val_loss: 0.6929\n",
      "Epoch 5/10\n",
      "\u001b[1m20/20\u001b[0m \u001b[32m━━━━━━━━━━━━━━━━━━━━\u001b[0m\u001b[37m\u001b[0m \u001b[1m0s\u001b[0m 10ms/step - accuracy: 0.5230 - loss: 0.6760 - val_accuracy: 0.5253 - val_loss: 0.6917\n",
      "Epoch 6/10\n",
      "\u001b[1m20/20\u001b[0m \u001b[32m━━━━━━━━━━━━━━━━━━━━\u001b[0m\u001b[37m\u001b[0m \u001b[1m0s\u001b[0m 10ms/step - accuracy: 0.5308 - loss: 0.6680 - val_accuracy: 0.5127 - val_loss: 0.7005\n",
      "Epoch 7/10\n",
      "\u001b[1m20/20\u001b[0m \u001b[32m━━━━━━━━━━━━━━━━━━━━\u001b[0m\u001b[37m\u001b[0m \u001b[1m0s\u001b[0m 10ms/step - accuracy: 0.9451 - loss: 0.1870 - val_accuracy: 0.9620 - val_loss: 0.2690\n",
      "Epoch 8/10\n",
      "\u001b[1m20/20\u001b[0m \u001b[32m━━━━━━━━━━━━━━━━━━━━\u001b[0m\u001b[37m\u001b[0m \u001b[1m0s\u001b[0m 10ms/step - accuracy: 0.9927 - loss: 0.0281 - val_accuracy: 0.9937 - val_loss: 0.1941\n",
      "Epoch 9/10\n",
      "\u001b[1m20/20\u001b[0m \u001b[32m━━━━━━━━━━━━━━━━━━━━\u001b[0m\u001b[37m\u001b[0m \u001b[1m0s\u001b[0m 10ms/step - accuracy: 1.0000 - loss: 0.0088 - val_accuracy: 0.9430 - val_loss: 0.1654\n",
      "Epoch 10/10\n",
      "\u001b[1m20/20\u001b[0m \u001b[32m━━━━━━━━━━━━━━━━━━━━\u001b[0m\u001b[37m\u001b[0m \u001b[1m0s\u001b[0m 10ms/step - accuracy: 1.0000 - loss: 0.0028 - val_accuracy: 0.9937 - val_loss: 0.0438\n"
     ]
    },
    {
     "data": {
      "text/plain": [
       "<keras.src.callbacks.history.History at 0x283450b7790>"
      ]
     },
     "execution_count": 12,
     "metadata": {},
     "output_type": "execute_result"
    }
   ],
   "source": [
    "# build the GRU model\n",
    "\n",
    "model = Sequential([\n",
    "    Embedding(input_dim=vocab_size, output_dim=64, input_length=max_length),\n",
    "    GRU(64, return_sequences=False), # 64 hidden\n",
    "    BatchNormalization(),\n",
    "    Dropout(0.5),\n",
    "    Dense(1, activation='sigmoid') # output layer should be between 0 and 1 so use sigmoid activation function\n",
    "])\n",
    "\n",
    "model.compile(loss='binary_crossentropy', optimizer='adam', metrics=['accuracy'])\n",
    "\n",
    "model.fit(train_seq_pad, train['label'], validation_data=(val_seq_pad, val['label']), epochs=10, batch_size=32, verbose=1)"
   ]
  },
  {
   "cell_type": "code",
   "execution_count": 13,
   "id": "a03eb94a-808b-42c3-97be-23125e91cffa",
   "metadata": {},
   "outputs": [
    {
     "name": "stdout",
     "output_type": "stream",
     "text": [
      "\u001b[1m5/5\u001b[0m \u001b[32m━━━━━━━━━━━━━━━━━━━━\u001b[0m\u001b[37m\u001b[0m \u001b[1m0s\u001b[0m 5ms/step - accuracy: 0.9979 - loss: 0.0411 \n",
      "validation accuracy for GRU model:  0.9936708807945251\n"
     ]
    }
   ],
   "source": [
    "val_loss, val_acc = model.evaluate(val_seq_pad, val['label'])\n",
    "print('validation accuracy for GRU model: ' , val_acc)"
   ]
  },
  {
   "cell_type": "markdown",
   "id": "6f88a0d3-d680-45a6-a5db-31fcfd022f54",
   "metadata": {},
   "source": [
    "### Hyperparameter Tuning\n",
    "\n",
    "- vocab size [2500, 5000, 10000], vocab size might add unneccessary noise causing overfitting or miss important tokens from being too small. Should try from 10,000 and go down since the emails sort of skew toward being shorter.\n",
    "- max length [30, 60, 80], should try different ball park of where most email lengths are based on histogram from above from eda. \n",
    "- embedding [32, 64, 168], impacts word vector representation while training, may capture more detail if big or overfit if dataset is small.\n",
    "- gru/conv1d [32, 64, 128], amount of units in the model, different rates impact how well the hidden layers perform\n",
    "- dropout [0.3, 0.5, 0.7], influences overfitting control"
   ]
  },
  {
   "cell_type": "code",
   "execution_count": 14,
   "id": "3f58b50a-5549-4130-ad0e-30145d0a1980",
   "metadata": {},
   "outputs": [
    {
     "name": "stdout",
     "output_type": "stream",
     "text": [
      "Reloading Tuner from tuner_dir\\emails_GRU\\tuner0.json\n"
     ]
    }
   ],
   "source": [
    "def build_gru_model(hp):\n",
    "    vocab_size = hp.Choice('max_vocab', [2500, 5000, 10000])  # max number of words, limits vocabulary size in tokenization\n",
    "    max_length = hp.Choice('max_words', [30, 60, 80]) # max email length in tokens, pads sequences to ensure same length during training\n",
    "    model = Sequential([\n",
    "    Embedding(input_dim=vocab_size, output_dim= hp.Choice('embedding_output_dim', [32, 64, 168]), input_length=max_length),\n",
    "    GRU(hp.Choice('gru_units', [32, 64, 128]), return_sequences=False),\n",
    "    BatchNormalization(),\n",
    "    Dropout(hp.Choice('dropout', [0.3, 0.5, 0.7])),\n",
    "    Dense(1, activation='sigmoid') # output layer should be between 0 and 1 so use sigmoid activation function\n",
    "    ])\n",
    "\n",
    "    model.compile(loss='binary_crossentropy', optimizer='adam', metrics=['accuracy'])\n",
    "    return model\n",
    "\n",
    "tunerGRU = kt.RandomSearch(\n",
    "    build_gru_model,\n",
    "    objective=kt.Objective('val_accuracy', direction='max'),  # tell Keras Tuner to maximize validation accuracy score\n",
    "    max_trials=10, # 10 combinations\n",
    "    executions_per_trial=1, # how many times to run a hyperparameter combination\n",
    "    directory='tuner_dir', # directory to save tuner log\n",
    "    project_name='emails_GRU' \n",
    ")\n",
    "tunerGRU.search(train_seq_pad, train['label'], epochs=10, validation_data=(val_seq_pad, val['label']), verbose=1)"
   ]
  },
  {
   "cell_type": "markdown",
   "id": "c7b49831-181a-4c53-a4e0-cf85fd4eaa23",
   "metadata": {},
   "source": [
    "## Results"
   ]
  },
  {
   "cell_type": "code",
   "execution_count": 15,
   "id": "89983e00-7a7e-44bc-9534-2df84ec64a45",
   "metadata": {},
   "outputs": [
    {
     "name": "stdout",
     "output_type": "stream",
     "text": [
      "WARNING:tensorflow:From C:\\Users\\Kyle\\Desktop\\ml week 6\\venv\\Lib\\site-packages\\keras\\src\\backend\\common\\global_state.py:82: The name tf.reset_default_graph is deprecated. Please use tf.compat.v1.reset_default_graph instead.\n",
      "\n",
      "{'max_vocab': 10000, 'max_words': 30, 'embedding_output_dim': 64, 'gru_units': 128, 'dropout': 0.7}\n"
     ]
    },
    {
     "name": "stderr",
     "output_type": "stream",
     "text": [
      "C:\\Users\\Kyle\\Desktop\\ml week 6\\venv\\Lib\\site-packages\\keras\\src\\saving\\saving_lib.py:757: UserWarning: Skipping variable loading for optimizer 'adam', because it has 2 variables whereas the saved optimizer has 18 variables. \n",
      "  saveable.load_own_variables(weights_store.get(inner_path))\n"
     ]
    }
   ],
   "source": [
    "# get best performing tuned GRU model\n",
    "best_GRU = tunerGRU.get_best_models(num_models=1)[0]\n",
    "best_GRU_hypparam = tunerGRU.get_best_hyperparameters(num_trials=1)[0]\n",
    "print(best_GRU_hypparam.values)"
   ]
  },
  {
   "cell_type": "code",
   "execution_count": 27,
   "id": "2bebfe7f-a94c-4ff6-aca3-5e19ae784d89",
   "metadata": {},
   "outputs": [
    {
     "data": {
      "text/html": [
       "<div>\n",
       "<style scoped>\n",
       "    .dataframe tbody tr th:only-of-type {\n",
       "        vertical-align: middle;\n",
       "    }\n",
       "\n",
       "    .dataframe tbody tr th {\n",
       "        vertical-align: top;\n",
       "    }\n",
       "\n",
       "    .dataframe thead th {\n",
       "        text-align: right;\n",
       "    }\n",
       "</style>\n",
       "<table border=\"1\" class=\"dataframe\">\n",
       "  <thead>\n",
       "    <tr style=\"text-align: right;\">\n",
       "      <th></th>\n",
       "      <th>Trial #</th>\n",
       "      <th>max_vocab</th>\n",
       "      <th>max_words</th>\n",
       "      <th>embedding_output_dim</th>\n",
       "      <th>gru_units</th>\n",
       "      <th>dropout</th>\n",
       "      <th>Val Accuracy</th>\n",
       "    </tr>\n",
       "  </thead>\n",
       "  <tbody>\n",
       "    <tr>\n",
       "      <th>2</th>\n",
       "      <td>04</td>\n",
       "      <td>10000</td>\n",
       "      <td>30</td>\n",
       "      <td>64</td>\n",
       "      <td>128</td>\n",
       "      <td>0.7</td>\n",
       "      <td>0.993671</td>\n",
       "    </tr>\n",
       "    <tr>\n",
       "      <th>4</th>\n",
       "      <td>00</td>\n",
       "      <td>2500</td>\n",
       "      <td>80</td>\n",
       "      <td>168</td>\n",
       "      <td>128</td>\n",
       "      <td>0.3</td>\n",
       "      <td>0.987342</td>\n",
       "    </tr>\n",
       "    <tr>\n",
       "      <th>9</th>\n",
       "      <td>06</td>\n",
       "      <td>5000</td>\n",
       "      <td>60</td>\n",
       "      <td>168</td>\n",
       "      <td>128</td>\n",
       "      <td>0.7</td>\n",
       "      <td>0.987342</td>\n",
       "    </tr>\n",
       "    <tr>\n",
       "      <th>6</th>\n",
       "      <td>03</td>\n",
       "      <td>10000</td>\n",
       "      <td>60</td>\n",
       "      <td>64</td>\n",
       "      <td>32</td>\n",
       "      <td>0.5</td>\n",
       "      <td>0.987342</td>\n",
       "    </tr>\n",
       "    <tr>\n",
       "      <th>8</th>\n",
       "      <td>07</td>\n",
       "      <td>5000</td>\n",
       "      <td>60</td>\n",
       "      <td>168</td>\n",
       "      <td>32</td>\n",
       "      <td>0.3</td>\n",
       "      <td>0.987342</td>\n",
       "    </tr>\n",
       "    <tr>\n",
       "      <th>1</th>\n",
       "      <td>05</td>\n",
       "      <td>5000</td>\n",
       "      <td>30</td>\n",
       "      <td>32</td>\n",
       "      <td>32</td>\n",
       "      <td>0.7</td>\n",
       "      <td>0.981013</td>\n",
       "    </tr>\n",
       "    <tr>\n",
       "      <th>7</th>\n",
       "      <td>01</td>\n",
       "      <td>10000</td>\n",
       "      <td>80</td>\n",
       "      <td>64</td>\n",
       "      <td>32</td>\n",
       "      <td>0.5</td>\n",
       "      <td>0.962025</td>\n",
       "    </tr>\n",
       "    <tr>\n",
       "      <th>0</th>\n",
       "      <td>02</td>\n",
       "      <td>2500</td>\n",
       "      <td>30</td>\n",
       "      <td>64</td>\n",
       "      <td>64</td>\n",
       "      <td>0.3</td>\n",
       "      <td>0.930380</td>\n",
       "    </tr>\n",
       "    <tr>\n",
       "      <th>5</th>\n",
       "      <td>09</td>\n",
       "      <td>5000</td>\n",
       "      <td>60</td>\n",
       "      <td>32</td>\n",
       "      <td>128</td>\n",
       "      <td>0.7</td>\n",
       "      <td>0.892405</td>\n",
       "    </tr>\n",
       "    <tr>\n",
       "      <th>3</th>\n",
       "      <td>08</td>\n",
       "      <td>2500</td>\n",
       "      <td>80</td>\n",
       "      <td>32</td>\n",
       "      <td>32</td>\n",
       "      <td>0.7</td>\n",
       "      <td>0.506329</td>\n",
       "    </tr>\n",
       "  </tbody>\n",
       "</table>\n",
       "</div>"
      ],
      "text/plain": [
       "  Trial #  max_vocab  max_words  embedding_output_dim  gru_units  dropout  \\\n",
       "2      04      10000         30                    64        128      0.7   \n",
       "4      00       2500         80                   168        128      0.3   \n",
       "9      06       5000         60                   168        128      0.7   \n",
       "6      03      10000         60                    64         32      0.5   \n",
       "8      07       5000         60                   168         32      0.3   \n",
       "1      05       5000         30                    32         32      0.7   \n",
       "7      01      10000         80                    64         32      0.5   \n",
       "0      02       2500         30                    64         64      0.3   \n",
       "5      09       5000         60                    32        128      0.7   \n",
       "3      08       2500         80                    32         32      0.7   \n",
       "\n",
       "   Val Accuracy  \n",
       "2      0.993671  \n",
       "4      0.987342  \n",
       "9      0.987342  \n",
       "6      0.987342  \n",
       "8      0.987342  \n",
       "1      0.981013  \n",
       "7      0.962025  \n",
       "0      0.930380  \n",
       "5      0.892405  \n",
       "3      0.506329  "
      ]
     },
     "metadata": {},
     "output_type": "display_data"
    }
   ],
   "source": [
    "# table of each trial and validation accuracy score at each trial along with hyperparameters for the gru model\n",
    "trial_data = []\n",
    "\n",
    "for trial in tunerGRU.oracle.trials.values():\n",
    "    trial_data.append({\n",
    "        'Trial #': trial.trial_id,\n",
    "        **trial.hyperparameters.values,\n",
    "        'Val Accuracy': trial.score\n",
    "    })\n",
    "\n",
    "gru_trial_df = pd.DataFrame(trial_data)\n",
    "gru_trial_df = gru_trial_df.sort_values(by='Val Accuracy', ascending = False)\n",
    "display(gru_trial_df)"
   ]
  },
  {
   "cell_type": "code",
   "execution_count": 28,
   "id": "ce454432-25e9-4dd1-a5bb-6a6f7bebc7f9",
   "metadata": {},
   "outputs": [
    {
     "data": {
      "image/png": "[encoded data removed]",
      "text/plain": [
       "<Figure size 1000x600 with 1 Axes>"
      ]
     },
     "metadata": {},
     "output_type": "display_data"
    }
   ],
   "source": [
    "# plot gru model accuracy at each trial\n",
    "gru_trial_df = gru_trial_df.sort_values(by='Trial #', ascending = True)\n",
    "plt.figure(figsize=(10, 6))\n",
    "plt.plot(gru_trial_df[\"Val Accuracy\"].values, marker='o')\n",
    "plt.title(\"Validation Accuracy per Trial\")\n",
    "plt.xlabel(\"Trial Number\")\n",
    "plt.ylabel(\"Validation Accuracy\")\n",
    "plt.grid(True)\n",
    "plt.show()"
   ]
  },
  {
   "cell_type": "markdown",
   "id": "07067bb8-ef8d-449b-bb8a-e4b978fe4286",
   "metadata": {},
   "source": [
    "Validation accuracy peaked on the fourth trial at 0.9936, it was the worst on the 8th trial being 0.5063. Each trial having its own unique pair of hyperparameters. The best model's hyperparameter were shown above."
   ]
  },
  {
   "cell_type": "code",
   "execution_count": 17,
   "id": "d1575d5c-ea9a-4564-8366-73af0d73a5b3",
   "metadata": {},
   "outputs": [
    {
     "name": "stdout",
     "output_type": "stream",
     "text": [
      "\u001b[1m5/5\u001b[0m \u001b[32m━━━━━━━━━━━━━━━━━━━━\u001b[0m\u001b[37m\u001b[0m \u001b[1m0s\u001b[0m 24ms/step\n",
      "(158, 3)\n"
     ]
    },
    {
     "data": {
      "image/png": "[encoded data removed]",
      "text/plain": [
       "<Figure size 800x600 with 2 Axes>"
      ]
     },
     "metadata": {},
     "output_type": "display_data"
    }
   ],
   "source": [
    "# create confusion matrix of best gru model predictions\n",
    "best_gru_pred = (best_GRU.predict(val_seq_pad) > 0.5).astype(\"int32\")\n",
    "gru_cm = confusion_matrix(val['label'], best_gru_pred)\n",
    "\n",
    "print(val.shape)\n",
    "plt.figure(figsize=(8,6))\n",
    "sns.heatmap(gru_cm, annot=True, fmt=\"d\", cmap=\"Blues\", xticklabels=['Negative', 'Positive'], yticklabels=['Negative', 'Positive'])\n",
    "plt.xlabel('Predicted')\n",
    "plt.ylabel('True')\n",
    "plt.title('Confusion Matrix')\n",
    "plt.show()"
   ]
  },
  {
   "cell_type": "code",
   "execution_count": 18,
   "id": "983c6979-c925-43eb-97f0-60931bf46650",
   "metadata": {},
   "outputs": [
    {
     "name": "stdout",
     "output_type": "stream",
     "text": [
      "Precision: 0.99\n",
      "Recall:    1.00\n",
      "F1 Score:  0.99\n"
     ]
    }
   ],
   "source": [
    "# other metrics\n",
    "\n",
    "gru_precision = precision_score(val['label'], best_gru_pred)\n",
    "gru_recall = recall_score(val['label'], best_gru_pred)\n",
    "gru_f1 = f1_score(val['label'], best_gru_pred)\n",
    "\n",
    "print(f\"Precision: {gru_precision:.2f}\")\n",
    "print(f\"Recall:    {gru_recall:.2f}\")\n",
    "print(f\"F1 Score:  {gru_f1:.2f}\")"
   ]
  },
  {
   "cell_type": "markdown",
   "id": "7be9d415-abe5-42a8-b136-51ed9ed8aef3",
   "metadata": {},
   "source": [
    "- The precision being 0.99 means that out of all emails that were predicted to be fake, 99% were truly fake.\n",
    "- The recall being 1.00 means that out of all emails that were predicted to be real job opportunities, 100% were predicted to be truly real.\n",
    "- A 0.99 f1 score entails both precision and recall, meaning 99% of the predictions are truly real and truly false.\n",
    "- The confusion matrix shows how well the predictions were on the validation data. 80 were truly negative, 77 were truly positive, and only 1 was false postiive. Meaning that 1 scam email might have been successful."
   ]
  },
  {
   "cell_type": "markdown",
   "id": "69d79631-dc79-42e8-9143-714efa61d4b2",
   "metadata": {},
   "source": [
    "## Comparison to other model\n",
    "\n",
    "Building a simple conv1d model for binary classification."
   ]
  },
  {
   "cell_type": "code",
   "execution_count": 19,
   "id": "0eff1bd5-cbf5-4b26-a01c-a96a87718055",
   "metadata": {},
   "outputs": [
    {
     "name": "stdout",
     "output_type": "stream",
     "text": [
      "Epoch 1/10\n"
     ]
    },
    {
     "name": "stderr",
     "output_type": "stream",
     "text": [
      "C:\\Users\\Kyle\\Desktop\\ml week 6\\venv\\Lib\\site-packages\\keras\\src\\layers\\core\\embedding.py:90: UserWarning: Argument `input_length` is deprecated. Just remove it.\n",
      "  warnings.warn(\n"
     ]
    },
    {
     "name": "stdout",
     "output_type": "stream",
     "text": [
      "\u001b[1m20/20\u001b[0m \u001b[32m━━━━━━━━━━━━━━━━━━━━\u001b[0m\u001b[37m\u001b[0m \u001b[1m1s\u001b[0m 7ms/step - accuracy: 0.6313 - loss: 0.6773 - val_accuracy: 0.9304 - val_loss: 0.6166\n",
      "Epoch 2/10\n",
      "\u001b[1m20/20\u001b[0m \u001b[32m━━━━━━━━━━━━━━━━━━━━\u001b[0m\u001b[37m\u001b[0m \u001b[1m0s\u001b[0m 3ms/step - accuracy: 0.9130 - loss: 0.5844 - val_accuracy: 0.9557 - val_loss: 0.4945\n",
      "Epoch 3/10\n",
      "\u001b[1m20/20\u001b[0m \u001b[32m━━━━━━━━━━━━━━━━━━━━\u001b[0m\u001b[37m\u001b[0m \u001b[1m0s\u001b[0m 3ms/step - accuracy: 0.9552 - loss: 0.4421 - val_accuracy: 0.9620 - val_loss: 0.3331\n",
      "Epoch 4/10\n",
      "\u001b[1m20/20\u001b[0m \u001b[32m━━━━━━━━━━━━━━━━━━━━\u001b[0m\u001b[37m\u001b[0m \u001b[1m0s\u001b[0m 3ms/step - accuracy: 0.9705 - loss: 0.2755 - val_accuracy: 0.9620 - val_loss: 0.2063\n",
      "Epoch 5/10\n",
      "\u001b[1m20/20\u001b[0m \u001b[32m━━━━━━━━━━━━━━━━━━━━\u001b[0m\u001b[37m\u001b[0m \u001b[1m0s\u001b[0m 3ms/step - accuracy: 0.9822 - loss: 0.1559 - val_accuracy: 0.9747 - val_loss: 0.1389\n",
      "Epoch 6/10\n",
      "\u001b[1m20/20\u001b[0m \u001b[32m━━━━━━━━━━━━━━━━━━━━\u001b[0m\u001b[37m\u001b[0m \u001b[1m0s\u001b[0m 3ms/step - accuracy: 0.9820 - loss: 0.1052 - val_accuracy: 0.9810 - val_loss: 0.1036\n",
      "Epoch 7/10\n",
      "\u001b[1m20/20\u001b[0m \u001b[32m━━━━━━━━━━━━━━━━━━━━\u001b[0m\u001b[37m\u001b[0m \u001b[1m0s\u001b[0m 3ms/step - accuracy: 0.9820 - loss: 0.0705 - val_accuracy: 0.9873 - val_loss: 0.0829\n",
      "Epoch 8/10\n",
      "\u001b[1m20/20\u001b[0m \u001b[32m━━━━━━━━━━━━━━━━━━━━\u001b[0m\u001b[37m\u001b[0m \u001b[1m0s\u001b[0m 3ms/step - accuracy: 0.9988 - loss: 0.0438 - val_accuracy: 0.9873 - val_loss: 0.0718\n",
      "Epoch 9/10\n",
      "\u001b[1m20/20\u001b[0m \u001b[32m━━━━━━━━━━━━━━━━━━━━\u001b[0m\u001b[37m\u001b[0m \u001b[1m0s\u001b[0m 3ms/step - accuracy: 0.9956 - loss: 0.0336 - val_accuracy: 0.9873 - val_loss: 0.0646\n",
      "Epoch 10/10\n",
      "\u001b[1m20/20\u001b[0m \u001b[32m━━━━━━━━━━━━━━━━━━━━\u001b[0m\u001b[37m\u001b[0m \u001b[1m0s\u001b[0m 3ms/step - accuracy: 0.9978 - loss: 0.0235 - val_accuracy: 0.9873 - val_loss: 0.0603\n",
      "\u001b[1m5/5\u001b[0m \u001b[32m━━━━━━━━━━━━━━━━━━━━\u001b[0m\u001b[37m\u001b[0m \u001b[1m0s\u001b[0m 3ms/step - accuracy: 0.9932 - loss: 0.0515 \n",
      "validation accuracy for the conv1d model:  0.9873417615890503\n"
     ]
    }
   ],
   "source": [
    "conv1d = Sequential([\n",
    "    Embedding(input_dim=vocab_size, output_dim=64, input_length=max_length),\n",
    "    Conv1D(filters= 64, kernel_size=3, activation='relu'),\n",
    "    GlobalMaxPooling1D(), # identifies patterns in text for conv1d\n",
    "    Dropout(0.5),\n",
    "    Dense(1, activation='sigmoid') # output layer should be between 0 and 1 so use sigmoid activation function\n",
    "])\n",
    "\n",
    "conv1d.compile(loss='binary_crossentropy', optimizer='adam', metrics=['accuracy'])\n",
    "conv1d.fit(train_seq_pad, train['label'], validation_data=(val_seq_pad, val['label']), epochs=10, batch_size=32, verbose=1)\n",
    "\n",
    "conv1d_loss, conv1d_acc = conv1d.evaluate(val_seq_pad, val['label'])\n",
    "print('validation accuracy for the conv1d model: ' , conv1d_acc)"
   ]
  },
  {
   "cell_type": "code",
   "execution_count": 20,
   "id": "bcdb7409-8c6d-4d7b-94bc-f0a584c0bf73",
   "metadata": {},
   "outputs": [
    {
     "name": "stdout",
     "output_type": "stream",
     "text": [
      "Reloading Tuner from tuner_dir2\\emails_conv\\tuner0.json\n"
     ]
    }
   ],
   "source": [
    "# hyperparameter tuning for simple conv1d model\n",
    "\n",
    "def build_conv_model(hp):\n",
    "    vocab_size = hp.Choice('max_vocab', [2500, 5000, 10000])  # max number of words, limits vocabulary size in tokenization\n",
    "    max_length = hp.Choice('max_words', [30, 60, 80]) # max email length in tokens, pads sequences to ensure same length during training\n",
    "    model = Sequential([\n",
    "        Embedding(input_dim=vocab_size, output_dim=hp.Choice('embedding_output_dim', [32, 64, 128]), input_length=max_length),\n",
    "        Conv1D(filters= hp.Choice('conv1d units', [32, 64, 128]), kernel_size=3, activation='relu'),\n",
    "        GlobalMaxPooling1D(), # identifies patterns in text for conv1d\n",
    "        Dropout(hp.Choice('dropout', [0.3, 0.5, 0.7])),\n",
    "        Dense(1, activation='sigmoid') # output layer should be between 0 and 1 so use sigmoid activation function\n",
    "    ])\n",
    "\n",
    "    model.compile(loss='binary_crossentropy', optimizer='adam', metrics=['accuracy'])\n",
    "    return model\n",
    "\n",
    "tuner1d = kt.RandomSearch(\n",
    "    build_conv_model,\n",
    "    objective=kt.Objective('val_accuracy', direction='max'),  # tell Keras Tuner to maximize validation accuracy score\n",
    "    max_trials=10, # 10 combinations\n",
    "    executions_per_trial=1, # how many times to run a hyperparameter combination\n",
    "    directory='tuner_dir2', # directory to save tuner log\n",
    "    project_name='emails_conv' \n",
    ")\n",
    "tuner1d.search(train_seq_pad, train['label'], epochs=10, validation_data=(val_seq_pad, val['label']), verbose=1)"
   ]
  },
  {
   "cell_type": "code",
   "execution_count": 21,
   "id": "edf23610-cfe7-4b5a-a29e-7fcdb2149ea1",
   "metadata": {},
   "outputs": [
    {
     "data": {
      "text/html": [
       "<div>\n",
       "<style scoped>\n",
       "    .dataframe tbody tr th:only-of-type {\n",
       "        vertical-align: middle;\n",
       "    }\n",
       "\n",
       "    .dataframe tbody tr th {\n",
       "        vertical-align: top;\n",
       "    }\n",
       "\n",
       "    .dataframe thead th {\n",
       "        text-align: right;\n",
       "    }\n",
       "</style>\n",
       "<table border=\"1\" class=\"dataframe\">\n",
       "  <thead>\n",
       "    <tr style=\"text-align: right;\">\n",
       "      <th></th>\n",
       "      <th>Trial #</th>\n",
       "      <th>max_vocab</th>\n",
       "      <th>max_words</th>\n",
       "      <th>embedding_output_dim</th>\n",
       "      <th>conv1d units</th>\n",
       "      <th>dropout</th>\n",
       "      <th>Val Accuracy</th>\n",
       "    </tr>\n",
       "  </thead>\n",
       "  <tbody>\n",
       "    <tr>\n",
       "      <th>0</th>\n",
       "      <td>05</td>\n",
       "      <td>2500</td>\n",
       "      <td>80</td>\n",
       "      <td>128</td>\n",
       "      <td>32</td>\n",
       "      <td>0.7</td>\n",
       "      <td>0.993671</td>\n",
       "    </tr>\n",
       "    <tr>\n",
       "      <th>3</th>\n",
       "      <td>06</td>\n",
       "      <td>10000</td>\n",
       "      <td>60</td>\n",
       "      <td>128</td>\n",
       "      <td>128</td>\n",
       "      <td>0.3</td>\n",
       "      <td>0.993671</td>\n",
       "    </tr>\n",
       "    <tr>\n",
       "      <th>5</th>\n",
       "      <td>08</td>\n",
       "      <td>10000</td>\n",
       "      <td>80</td>\n",
       "      <td>64</td>\n",
       "      <td>128</td>\n",
       "      <td>0.5</td>\n",
       "      <td>0.993671</td>\n",
       "    </tr>\n",
       "    <tr>\n",
       "      <th>1</th>\n",
       "      <td>04</td>\n",
       "      <td>10000</td>\n",
       "      <td>60</td>\n",
       "      <td>64</td>\n",
       "      <td>32</td>\n",
       "      <td>0.5</td>\n",
       "      <td>0.987342</td>\n",
       "    </tr>\n",
       "    <tr>\n",
       "      <th>2</th>\n",
       "      <td>07</td>\n",
       "      <td>10000</td>\n",
       "      <td>30</td>\n",
       "      <td>64</td>\n",
       "      <td>32</td>\n",
       "      <td>0.3</td>\n",
       "      <td>0.987342</td>\n",
       "    </tr>\n",
       "    <tr>\n",
       "      <th>4</th>\n",
       "      <td>09</td>\n",
       "      <td>5000</td>\n",
       "      <td>30</td>\n",
       "      <td>64</td>\n",
       "      <td>128</td>\n",
       "      <td>0.3</td>\n",
       "      <td>0.987342</td>\n",
       "    </tr>\n",
       "    <tr>\n",
       "      <th>6</th>\n",
       "      <td>01</td>\n",
       "      <td>2500</td>\n",
       "      <td>30</td>\n",
       "      <td>32</td>\n",
       "      <td>32</td>\n",
       "      <td>0.5</td>\n",
       "      <td>0.987342</td>\n",
       "    </tr>\n",
       "    <tr>\n",
       "      <th>7</th>\n",
       "      <td>03</td>\n",
       "      <td>10000</td>\n",
       "      <td>30</td>\n",
       "      <td>64</td>\n",
       "      <td>128</td>\n",
       "      <td>0.7</td>\n",
       "      <td>0.987342</td>\n",
       "    </tr>\n",
       "    <tr>\n",
       "      <th>9</th>\n",
       "      <td>00</td>\n",
       "      <td>2500</td>\n",
       "      <td>80</td>\n",
       "      <td>64</td>\n",
       "      <td>64</td>\n",
       "      <td>0.7</td>\n",
       "      <td>0.987342</td>\n",
       "    </tr>\n",
       "    <tr>\n",
       "      <th>8</th>\n",
       "      <td>02</td>\n",
       "      <td>2500</td>\n",
       "      <td>60</td>\n",
       "      <td>64</td>\n",
       "      <td>128</td>\n",
       "      <td>0.3</td>\n",
       "      <td>0.974684</td>\n",
       "    </tr>\n",
       "  </tbody>\n",
       "</table>\n",
       "</div>"
      ],
      "text/plain": [
       "  Trial #  max_vocab  max_words  embedding_output_dim  conv1d units  dropout  \\\n",
       "0      05       2500         80                   128            32      0.7   \n",
       "3      06      10000         60                   128           128      0.3   \n",
       "5      08      10000         80                    64           128      0.5   \n",
       "1      04      10000         60                    64            32      0.5   \n",
       "2      07      10000         30                    64            32      0.3   \n",
       "4      09       5000         30                    64           128      0.3   \n",
       "6      01       2500         30                    32            32      0.5   \n",
       "7      03      10000         30                    64           128      0.7   \n",
       "9      00       2500         80                    64            64      0.7   \n",
       "8      02       2500         60                    64           128      0.3   \n",
       "\n",
       "   Val Accuracy  \n",
       "0      0.993671  \n",
       "3      0.993671  \n",
       "5      0.993671  \n",
       "1      0.987342  \n",
       "2      0.987342  \n",
       "4      0.987342  \n",
       "6      0.987342  \n",
       "7      0.987342  \n",
       "9      0.987342  \n",
       "8      0.974684  "
      ]
     },
     "metadata": {},
     "output_type": "display_data"
    }
   ],
   "source": [
    "# table of each trial and validation accuracy score at each trial along with hyperparameters for the conv model\n",
    "trial_data = []\n",
    "\n",
    "for trial in tuner1d.oracle.trials.values():\n",
    "    trial_data.append({\n",
    "        'Trial #': trial.trial_id,\n",
    "        **trial.hyperparameters.values,\n",
    "        'Val Accuracy': trial.score\n",
    "    })\n",
    "\n",
    "conv_trial_df = pd.DataFrame(trial_data)\n",
    "conv_trial_df = conv_trial_df.sort_values(by='Val Accuracy', ascending = False)\n",
    "display(conv_trial_df)"
   ]
  },
  {
   "cell_type": "code",
   "execution_count": 36,
   "id": "d4837d40-24e1-421e-87a7-e387173b1067",
   "metadata": {},
   "outputs": [
    {
     "name": "stdout",
     "output_type": "stream",
     "text": [
      "{'max_vocab': 2500, 'max_words': 80, 'embedding_output_dim': 128, 'conv1d units': 32, 'dropout': 0.7}\n"
     ]
    }
   ],
   "source": [
    "# get best conv1 model\n",
    "best_conv = tuner1d.get_best_models(num_models=1)[0]\n",
    "best_conv_hypparam = tuner1d.get_best_hyperparameters(num_trials=1)[0]\n",
    "print(best_conv_hypparam.values)"
   ]
  },
  {
   "cell_type": "markdown",
   "id": "29a11777-752e-4bad-9ca4-34b43e5b0bc9",
   "metadata": {},
   "source": [
    "### Accuracy on test data"
   ]
  },
  {
   "cell_type": "code",
   "execution_count": 37,
   "id": "0c430529-c8ac-424d-87fd-7748b632a902",
   "metadata": {},
   "outputs": [
    {
     "name": "stdout",
     "output_type": "stream",
     "text": [
      "\u001b[1m5/5\u001b[0m \u001b[32m━━━━━━━━━━━━━━━━━━━━\u001b[0m\u001b[37m\u001b[0m \u001b[1m0s\u001b[0m 6ms/step - accuracy: 0.9979 - loss: 0.1843 \n",
      "validation accuracy for best GRU model:  0.9936708807945251\n",
      "\u001b[1m7/7\u001b[0m \u001b[32m━━━━━━━━━━━━━━━━━━━━\u001b[0m\u001b[37m\u001b[0m \u001b[1m0s\u001b[0m 5ms/step - accuracy: 0.9848 - loss: 0.2115 \n",
      "test accuracy for best GRU model:  0.9797979593276978\n",
      "\u001b[1m5/5\u001b[0m \u001b[32m━━━━━━━━━━━━━━━━━━━━\u001b[0m\u001b[37m\u001b[0m \u001b[1m0s\u001b[0m 3ms/step - accuracy: 0.9966 - loss: 0.1443  \n",
      "validation accuracy for best conv1d model:  0.9936708807945251\n",
      "\u001b[1m7/7\u001b[0m \u001b[32m━━━━━━━━━━━━━━━━━━━━\u001b[0m\u001b[37m\u001b[0m \u001b[1m0s\u001b[0m 2ms/step - accuracy: 0.9749 - loss: 0.1657 \n",
      "test accuracy for best conv1d model:  0.9797979593276978\n"
     ]
    }
   ],
   "source": [
    "# validation accuracy on best gru model\n",
    "val_loss, val_acc = best_GRU.evaluate(val_seq_pad, val['label'])\n",
    "print('validation accuracy for best GRU model: ' , val_acc)\n",
    "\n",
    "# test accuracy on best gru model\n",
    "test_loss, test_acc = best_GRU.evaluate(test_seq_pad, test['label'])\n",
    "print('test accuracy for best GRU model: ' , test_acc)\n",
    "\n",
    "# val acc on best conv1d model\n",
    "val_loss, val_acc = best_conv.evaluate(val_seq_pad, val['label'])\n",
    "print('validation accuracy for best conv1d model: ' , val_acc)\n",
    "\n",
    "# test accuracy on best conv1d model\n",
    "test_loss, test_acc = best_conv.evaluate(test_seq_pad, test['label'])\n",
    "print('test accuracy for best conv1d model: ' , test_acc)"
   ]
  },
  {
   "cell_type": "markdown",
   "id": "34b83b14-0d0f-427f-b3d3-e20942774b14",
   "metadata": {},
   "source": [
    "In summary the validation accuracy for the base GRU model was around 0.9936 and 0.9873 for the base Conv1D model. After hyperparameter tuning, the best validation accuracy for the GRU model remained around 0.9936 and slightly improved for the Conv1D model to 0.9936. The test accuracy also stayed consistent for both models after tuning, with the GRU model reaching 0.9798 and the Conv1D model also achieving 0.9798. Although performance ended up being quite similar for both models after hyperparameter tuning, the best hyperparameters values were somwhat different. This sort of makes sense since with conv1d identifying short patterns like typos or certain words with urgency might make it easier to classify the emails well. And with GRU the context is learned, things like urgency or asking for money might make it just as good at classifying the emails.\n",
    "\n",
    "Troubleshooting: At first when I was training the gru model, my accuracy was only around 0.50. I wondered if there was something wrong with my data, with the length being somewhat varied. I tried changing some hyperparameters and realized that the max_length value had been too high. At first it was at 120 and I realized that there were too many 0s in the training tokenized data and it was underfitting so reduced that and accuracy improved. I then learned to tune it further while hyperparameter tuning. \n",
    "\n",
    "A hyperparameter that worked well in tuning has to be the max_words. The best gru model had 30 as the value for max_words whereas previously it was 60. The performance did not improve much if at all but previously I mentioned in the troubleshooting, when it was 120 the accuracy was a lot lower. The other hyperparameters were basically the same as the base model. Perhaps a larger dataset would have been more ideal for evaluating this performance. For the best conv1d model both the max_vocab and max_words changed, max_vocab decreased to 2500 and max_words increased to 80. This makes sense, it performed better when it had smaller vocab to track and bigger email lengths to evaluate. This model specializes in recognizing short patterns and it needed more total length to identify it.\n",
    "\n",
    "Hyperparameter tuning plan is listed above."
   ]
  },
  {
   "cell_type": "markdown",
   "id": "84457d9c-6e94-4cf1-ae64-57259c491bd8",
   "metadata": {},
   "source": [
    "## Conclusion\n",
    "\n",
    "To conclude: The base GRU model performed better than the base conv1D model but they were both already very good. After hyperparameter tuning, their performance ended up being quite similar, both being very good with the accuracy at around 0.99. Essentially these models will accurately classify emails as scams 99% of the time.\n",
    "\n",
    "My hypothesis that the difference in email lengths impacted the training, as described in my troubleshooting portion of the result section. Changing the hyperparameter of max length to be smaller allows less noise and underfitting to occur while training.\n",
    "\n",
    "What I learned was that deep learning neural networks are flexible and more layers can be added to optimize performance. For example I added a batch normalization layer to normalize the data after the computation to help troubleshoot why my models were performing so badly.\n",
    "\n",
    "A suggestion I would try in the future is adding more longer emails into the dataset. I feel like the length of most emails sort of skewed to being shorter in length and it is not very realistic as most job opportunity emails are usually longer. I would also like to try different natural language processing models as well for comparison. "
   ]
  },
  {
   "cell_type": "markdown",
   "id": "a9228bdb-3f93-4b62-a3e6-77a87ac8aa3e",
   "metadata": {},
   "source": [
    "https://github.com/kyleung1/ml-week-6"
   ]
  }
 ],
 "metadata": {
  "kernelspec": {
   "display_name": "Python 3 (ipykernel)",
   "language": "python",
   "name": "python3"
  },
  "language_info": {
   "codemirror_mode": {
    "name": "ipython",
    "version": 3
   },
   "file_extension": ".py",
   "mimetype": "text/x-python",
   "name": "python",
   "nbconvert_exporter": "python",
   "pygments_lexer": "ipython3",
   "version": "3.11.4"
  }
 },
 "nbformat": 4,
 "nbformat_minor": 5
}
